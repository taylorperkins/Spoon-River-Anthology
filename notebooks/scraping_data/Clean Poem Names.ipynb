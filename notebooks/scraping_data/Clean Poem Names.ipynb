{
 "cells": [
  {
   "cell_type": "code",
   "execution_count": 1,
   "metadata": {},
   "outputs": [],
   "source": [
    "import csv\n",
    "\n",
    "from bs4 import BeautifulSoup"
   ]
  },
  {
   "cell_type": "code",
   "execution_count": 2,
   "metadata": {},
   "outputs": [
    {
     "name": "stdout",
     "output_type": "stream",
     "text": [
      "/Users/taylorperkins/Desktop/projects/spoon_river/data\n"
     ]
    }
   ],
   "source": [
    "%cd ../../data/"
   ]
  },
  {
   "cell_type": "code",
   "execution_count": 3,
   "metadata": {},
   "outputs": [],
   "source": [
    "with open('./poem_names.html') as f:\n",
    "    poem_names = f.read()"
   ]
  },
  {
   "cell_type": "code",
   "execution_count": 4,
   "metadata": {},
   "outputs": [
    {
     "data": {
      "text/plain": [
       "'<blockquote>\\n  <ol>\\n    <li><a href=\"/84/1.html\">The Hill</a></li>\\n    <li><a href=\"/84/2.html\">Hod Putt</a></li>\\n    <li><a href=\"/84/3.html\">Ollie McGee</a></li>\\n    <li><a href=\"/84/4.html\">Fletcher McGee</a></li>\\n    <li><a href=\"/84/5.html\">Robert Fulton Tanner</a></li>\\n    <li><a href=\"/84/6.html\">Cassius Hueffer</a></li>\\n    <li><a href=\"/84/7.html\">Serepta Mason</a></li>\\n    <li><a href=\"/84/8.html\">Amanda Barker</a></li>\\n    <li><a href=\"/84/9.html\">Constance Hately</a></li>\\n    <li><a href=\"/84/10.html\">Chase Henry</a></li>\\n    <li><a href=\"/84/11.html\">Harry Carey Goodhue</a></li>\\n    <li><a href=\"/84/12.html\">Judge Somers</a></li>\\n    <li><a href=\"/84/13.html\">Kinsey Keene</a></li>\\n    <li><a href=\"/84/14.html\">Benjamin Pantier</a></li>\\n    <li><a href=\"/84/15.html\">Mrs. Benjamin Pantier</a></li>\\n    <li><a href=\"/84/16.html\">Reuben Pantier</a></li>\\n    <li><a href=\"/84/17.html\">Emily Sparks</a></li>\\n    <li><a href=\"/84/18.html\">Trainor, the Druggist</a></li>\\n    <li><a href=\"/84/19.html\">Daisy Fraser</a></li>\\n    <li><a href=\"/84/20.html\">Benjamin Fraser</a></li>\\n    <li><a href=\"/84/21.html\">Minerva Jones</a></li>\\n    <li>“<a href=\"/84/22.html\">Indignation” Jones</a></li>\\n    <li><a href=\"/84/23.html\">Doctor Meyers</a></li>\\n    <li><a href=\"/84/24.html\">Mrs. Meyers</a></li>\\n    <li>“<a href=\"/84/25.html\">Butch” Weldy</a></li>\\n    <li><a href=\"/84/26.html\">Knowlt Hoheimer</a></li>\\n    <li><a href=\"/84/27.html\">Lydia Puckett</a></li>\\n    <li><a href=\"/84/28.html\">Frank Drummer</a></li>\\n    <li><a href=\"/84/29.html\">Hare Drummer</a></li>\\n    <li><a href=\"/84/30.html\">Conrad Siever</a></li>\\n    <li><a href=\"/84/31.html\">Doc Hill</a></li>\\n    <li><a href=\"/84/32.html\">Andy the Night-Watch</a></li>\\n    <li><a href=\"/84/33.html\">Sarah Brown</a></li>\\n    <li><a href=\"/84/34.html\">Percy Bysshe Shelley</a></li>\\n    <li><a href=\"/84/35.html\">Flossie Cabanis</a></li>\\n    <li><a href=\"/84/36.html\">Julia Miller</a></li>\\n    <li><a href=\"/84/37.html\">Johnnie Sayre</a></li>\\n    <li><a href=\"/84/38.html\">Charlie French</a></li>\\n    <li><a href=\"/84/39.html\">Zenas Witt</a></li>\\n    <li><a href=\"/84/40.html\">Theodore the Poet</a></li>\\n    <li><a href=\"/84/41.html\">The Town Marshal</a></li>\\n    <li><a href=\"/84/42.html\">Jack McGuire</a></li>\\n    <li><a href=\"/84/43.html\">Dorcas Gustine</a></li>\\n    <li><a href=\"/84/44.html\">Nicholas Bindle</a></li>\\n    <li><a href=\"/84/45.html\">Jacob Goodpasture</a></li>\\n    <li><a href=\"/84/46.html\">Harold Arnett</a></li>\\n    <li><a href=\"/84/47.html\">Margaret Fuller Slack</a></li>\\n    <li><a href=\"/84/48.html\">George Trimble</a></li>\\n    <li><a href=\"/84/49.html\">Dr. Siegfried Iseman</a></li>\\n    <li>“<a href=\"/84/50.html\">Ace” Shaw</a></li>\\n    <li><a href=\"/84/51.html\">Lois Spears</a></li>\\n    <li><a href=\"/84/52.html\">Justice Arnett</a></li>\\n    <li><a href=\"/84/53.html\">Willard Fluke</a></li>\\n    <li><a href=\"/84/54.html\">Aner Clute</a></li>\\n    <li><a href=\"/84/55.html\">Lucius Atherton</a></li>\\n    <li><a href=\"/84/56.html\">Homer Clapp</a></li>\\n    <li><a href=\"/84/57.html\">Deacon Taylor</a></li>\\n    <li><a href=\"/84/58.html\">Sam Hookey</a></li>\\n    <li><a href=\"/84/59.html\">Cooney Potter</a></li>\\n    <li><a href=\"/84/60.html\">Fiddler Jones</a></li>\\n    <li><a href=\"/84/61.html\">Nellie Clark</a></li>\\n    <li><a href=\"/84/62.html\">Louise Smith</a></li>\\n    <li><a href=\"/84/63.html\">Herbert Marshall</a></li>\\n    <li><a href=\"/84/64.html\">George Gray</a></li>\\n    <li><a href=\"/84/65.html\">Hon. Henry Bennett</a></li>\\n    <li><a href=\"/84/66.html\">Griffy the Cooper</a></li>\\n    <li><a href=\"/84/67.html\">Sexsmith the Dentist</a></li>\\n    <li><a href=\"/84/68.html\">A. D. Blood</a></li>\\n    <li><a href=\"/84/69.html\">Robert Southey Burke</a></li>\\n    <li><a href=\"/84/70.html\">Dora Williams</a></li>\\n    <li><a href=\"/84/71.html\">Mrs. Williams</a></li>\\n    <li><a href=\"/84/72.html\">William and Emily</a></li>\\n    <li><a href=\"/84/73.html\">The Circuit Judge</a></li>\\n    <li><a href=\"/84/74.html\">Blind Jack</a></li>\\n    <li><a href=\"/84/75.html\">John Horace Burleson</a></li>\\n    <li><a href=\"/84/76.html\">Nancy Knapp</a></li>\\n    <li><a href=\"/84/77.html\">Barry Holden</a></li>\\n    <li><a href=\"/84/78.html\">State’s Attorney Fallas</a></li>\\n    <li><a href=\"/84/79.html\">Wendell P. Bloyd</a></li>\\n    <li><a href=\"/84/80.html\">Francis Turner</a></li>\\n    <li><a href=\"/84/81.html\">Franklin Jones</a></li>\\n    <li><a href=\"/84/82.html\">John M. Church</a></li>\\n    <li><a href=\"/84/83.html\">Russian Sonia</a></li>\\n    <li><a href=\"/84/84.html\">Isa Nutter</a></li>\\n    <li><a href=\"/84/85.html\">Barney Hainsfeather</a></li>\\n    <li><a href=\"/84/86.html\">Petit, the Poet</a></li>\\n    <li><a href=\"/84/87.html\">Pauline Barrett</a></li>\\n    <li><a href=\"/84/88.html\">Mrs. Charles Bliss</a></li>\\n    <li><a href=\"/84/89.html\">Mrs. George Reece</a></li>\\n    <li><a href=\"/84/90.html\">Rev. Lemuel Wiley</a></li>\\n    <li><a href=\"/84/91.html\">Thomas Ross, Jr</a>.</li>\\n    <li><a href=\"/84/92.html\">Rev. Abner Peet</a></li>\\n    <li><a href=\"/84/93.html\">Jefferson Howard</a></li>\\n    <li><a href=\"/84/94.html\">Judge Selah Lively</a></li>\\n    <li><a href=\"/84/95.html\">Albert Schirding</a></li>\\n    <li><a href=\"/84/96.html\">Jonas Keene</a></li>\\n    <li><a href=\"/84/97.html\">Eugenia Todd</a></li>\\n    <li><a href=\"/84/98.html\">Yee Bow</a></li>\\n    <li><a href=\"/84/99.html\">Washington McNeely</a></li>\\n    <li><a href=\"/84/100.html\">Paul McNeely</a></li>\\n    <li><a href=\"/84/101.html\">Mary McNeely</a></li>\\n    <li><a href=\"/84/102.html\">Daniel M’Cumber</a></li>\\n    <li><a href=\"/84/103.html\">Georgine Sand Miner</a></li>\\n    <li><a href=\"/84/104.html\">Thomas Rhodes</a></li>\\n    <li><a href=\"/84/105.html\">Ida Chicken</a></li>\\n    <li><a href=\"/84/106.html\">Penniwit, the Artist</a></li>\\n    <li><a href=\"/84/107.html\">Jim Brown</a></li>\\n    <li><a href=\"/84/108.html\">Robert Davidson</a></li>\\n    <li><a href=\"/84/109.html\">Elsa Wertman</a></li>\\n    <li><a href=\"/84/110.html\">Hamilton Greene</a></li>\\n    <li><a href=\"/84/111.html\">Ernest Hyde</a></li>\\n    <li><a href=\"/84/112.html\">Roger Heston</a></li>\\n    <li><a href=\"/84/113.html\">Amos Sibley</a></li>\\n    <li><a href=\"/84/114.html\">Mrs. Sibley</a></li>\\n    <li><a href=\"/84/115.html\">Adam Weirauch</a></li>\\n    <li><a href=\"/84/116.html\">Ezra Bartlett</a></li>\\n    <li><a href=\"/84/117.html\">Amelia Garrick</a></li>\\n    <li><a href=\"/84/118.html\">John Hancock Otis</a></li>\\n    <li><a href=\"/84/119.html\">Anthony Findlay</a></li>\\n    <li><a href=\"/84/120.html\">John Cabanis</a></li>\\n    <li><a href=\"/84/121.html\">The Unknown</a></li>\\n    <li><a href=\"/84/122.html\">Alexander Throckmorton</a></li>\\n    <li><a href=\"/84/123.html\">Jonathan Swift Somers</a></li>\\n    <li><a href=\"/84/124.html\">Widow McFarlane</a></li>\\n    <li><a href=\"/84/125.html\">Carl Hamblin</a></li>\\n    <li><a href=\"/84/126.html\">Editor Whedon</a></li>\\n    <li><a href=\"/84/127.html\">Eugene Carman</a></li>\\n    <li><a href=\"/84/128.html\">Clarence Fawcett</a></li>\\n    <li><a href=\"/84/129.html\">W. Lloyd Garrison Standard</a></li>\\n    <li><a href=\"/84/130.html\">Professor Newcomer</a></li>\\n    <li><a href=\"/84/131.html\">Ralph Rhodes</a></li>\\n    <li><a href=\"/84/132.html\">Mickey M’Grew</a></li>\\n    <li><a href=\"/84/133.html\">Rosie Roberts</a></li>\\n    <li><a href=\"/84/134.html\">Oscar Hummel</a></li>\\n    <li><a href=\"/84/135.html\">Roscoe Purkapile</a></li>\\n    <li><a href=\"/84/136.html\">Mrs. Purkapile</a></li>\\n    <li><a href=\"/84/137.html\">Josiah Tompkins</a></li>\\n    <li><a href=\"/84/138.html\">Mrs. Kessler</a></li>\\n    <li><a href=\"/84/139.html\">Harmon Whitney</a></li>\\n    <li><a href=\"/84/140.html\">Bert Kessler</a></li>\\n    <li><a href=\"/84/141.html\">Lambert Hutchins</a></li>\\n    <li><a href=\"/84/142.html\">Lillian Stewart</a></li>\\n    <li><a href=\"/84/143.html\">Hortense Robbins</a></li>\\n    <li><a href=\"/84/144.html\">Batterton Dobyns</a></li>\\n    <li><a href=\"/84/145.html\">Jacob Godbey</a></li>\\n    <li><a href=\"/84/146.html\">Walter Simmons</a></li>\\n    <li><a href=\"/84/147.html\">Tom Beatty</a></li>\\n    <li><a href=\"/84/148.html\">Roy Butler</a></li>\\n    <li><a href=\"/84/149.html\">Searcy Foote</a></li>\\n    <li><a href=\"/84/150.html\">Edmund Pollard</a></li>\\n    <li><a href=\"/84/151.html\">Thomas Trevelyan</a></li>\\n    <li><a href=\"/84/152.html\">Percival Sharp</a></li>\\n    <li><a href=\"/84/153.html\">Hiram Scates</a></li>\\n    <li><a href=\"/84/154.html\">Peleg Poague</a></li>\\n    <li><a href=\"/84/155.html\">Jeduthan Hawley</a></li>\\n    <li><a href=\"/84/156.html\">Abel Melveny</a></li>\\n    <li><a href=\"/84/157.html\">Oaks Tutt</a></li>\\n    <li><a href=\"/84/158.html\">Elliott Hawkins</a></li>\\n    <li><a href=\"/84/159.html\">Voltaire Johnson</a></li>\\n    <li><a href=\"/84/160.html\">English Thornton</a></li>\\n    <li><a href=\"/84/161.html\">Enoch Dunlap</a></li>\\n    <li><a href=\"/84/162.html\">Ida Frickey</a></li>\\n    <li><a href=\"/84/163.html\">Seth Compton</a></li>\\n    <li><a href=\"/84/164.html\">Felix Schmidt</a></li>\\n    <li><a href=\"/84/165.html\">Schroe<!-- oelig-->der the Fisherman</a></li>\\n    <li><a href=\"/84/166.html\">Richard Bone</a></li>\\n    <li><a href=\"/84/167.html\">Silas Dement</a></li>\\n    <li><a href=\"/84/168.html\">Dillard Sissman</a></li>\\n    <li><a href=\"/84/169.html\">Jonathan Houghton</a></li>\\n    <li><a href=\"/84/170.html\">E. C. Culbertson</a></li>\\n    <li><a href=\"/84/171.html\">Shack Dye</a></li>\\n    <li><a href=\"/84/172.html\">Hildrup Tubbs</a></li>\\n    <li><a href=\"/84/173.html\">Henry Tripp</a></li>\\n    <li><a href=\"/84/174.html\">Granville Calhoun</a></li>\\n    <li><a href=\"/84/175.html\">Henry C. Calhoun</a></li>\\n    <li><a href=\"/84/176.html\">Alfred Moir</a></li>\\n    <li><a href=\"/84/177.html\">Perry Zoll</a></li>\\n    <li><a href=\"/84/178.html\">Dippold the Optician</a></li>\\n    <li><a href=\"/84/179.html\">Magrady Graham</a></li>\\n    <li><a href=\"/84/180.html\">Archibald Higbie</a></li>\\n    <li><a href=\"/84/181.html\">Tom Merritt</a></li>\\n    <li><a href=\"/84/182.html\">Mrs. Merritt</a></li>\\n    <li><a href=\"/84/183.html\">Elmer Karr</a></li>\\n    <li><a href=\"/84/184.html\">Elizabeth Childers</a></li>\\n    <li><a href=\"/84/185.html\">Edith Conant</a></li>\\n    <li><a href=\"/84/186.html\">Charles Webster</a></li>\\n    <li><a href=\"/84/187.html\">Father Malloy</a></li>\\n    <li><a href=\"/84/188.html\">Ami Green</a></li>\\n    <li><a href=\"/84/189.html\">Calvin Campbell</a></li>\\n    <li><a href=\"/84/190.html\">Henry Layton</a></li>\\n    <li><a href=\"/84/191.html\">Harlan Sewall</a></li>\\n    <li><a href=\"/84/192.html\">Ippolit Konovaloff</a></li>\\n    <li><a href=\"/84/193.html\">Henry Phipps</a></li>\\n    <li><a href=\"/84/194.html\">Harry Wilmans</a></li>\\n    <li><a href=\"/84/195.html\">John Wasson</a></li>\\n    <li><a href=\"/84/196.html\">Many Soldiers</a></li>\\n    <li><a href=\"/84/197.html\">Godwin James</a></li>\\n    <li><a href=\"/84/198.html\">Lyman King</a></li>\\n    <li><a href=\"/84/199.html\">Caroline Branson</a></li>\\n    <li><a href=\"/84/200.html\">Anne Rutledge</a></li>\\n    <li><a href=\"/84/201.html\">Hamlet Micure</a></li>\\n    <li><a href=\"/84/202.html\">Mabel Osborne</a></li>\\n    <li><a href=\"/84/203.html\">William H. Herndon</a></li>\\n    <li><a href=\"/84/204.html\">Rebecca Wasson</a></li>\\n    <li><a href=\"/84/205.html\">Rutherford McDowell</a></li>\\n    <li><a href=\"/84/206.html\">Hannah Armstrong</a></li>\\n    <li><a href=\"/84/207.html\">Lucinda Matlock</a></li>\\n    <li><a href=\"/84/208.html\">Davis Matlock</a></li>\\n    <li><a href=\"/84/209.html\">Herman Altman</a></li>\\n    <li><a href=\"/84/210.html\">Jennie M’Grew</a></li>\\n    <li><a href=\"/84/211.html\">Columbus Cheney</a></li>\\n    <li><a href=\"/84/212.html\">Wallace Ferguson</a></li>\\n    <li><a href=\"/84/213.html\">Marie Bateson</a></li>\\n    <li><a href=\"/84/214.html\">Tennessee Claflin Shope</a></li>\\n    <li><a href=\"/84/215.html\">Plymouth Rock Joe</a></li>\\n    <li><a href=\"/84/216.html\">Imanuel Ehrenhardt</a></li>\\n    <li><a href=\"/84/217.html\">Samuel Gardner</a></li>\\n    <li><a href=\"/84/218.html\">Dow Kritt</a></li>\\n    <li><a href=\"/84/219.html\">William Jones</a></li>\\n    <li><a href=\"/84/220.html\">William Goode</a></li>\\n    <li><a href=\"/84/221.html\">J. Milton Miles</a></li>\\n    <li><a href=\"/84/222.html\">Faith Matheny</a></li>\\n    <li><a href=\"/84/223.html\">Scholfield Huxley</a></li>\\n    <li><a href=\"/84/224.html\">Willie Metcalf</a></li>\\n    <li><a href=\"/84/225.html\">Willie Pennington</a></li>\\n    <li><a href=\"/84/226.html\">The Village Atheist</a></li>\\n    <li><a href=\"/84/227.html\">John Ballard</a></li>\\n    <li><a href=\"/84/228.html\">Julian Scott</a></li>\\n    <li><a href=\"/84/229.html\">Alfonso Churchill</a></li>\\n    <li><a href=\"/84/230.html\">Zilpha Marsh</a></li>\\n    <li><a href=\"/84/231.html\">James Garber</a></li>\\n    <li><a href=\"/84/232.html\">Lydia Humphrey</a></li>\\n    <li><a href=\"/84/233.html\">Le Roy Goldman</a></li>\\n    <li><a href=\"/84/234.html\">Gustav Richter</a></li>\\n    <li><a href=\"/84/235.html\">Arlo Will</a></li>\\n    <li><a href=\"/84/236.html\">Captain Orlando Killion</a></li>\\n    <li><a href=\"/84/237.html\">Jeremy Carlisle</a></li>\\n    <li><a href=\"/84/238.html\">Joseph Dixon</a></li>\\n    <li><a href=\"/84/239.html\">Judson Stoddard</a></li>\\n    <li><a href=\"/84/240.html\">Russell Kincaid</a></li>\\n    <li><a href=\"/84/241.html\">Aaron Hatfield</a></li>\\n    <li><a href=\"/84/242.html\">Isaiah Beethoven</a></li>\\n    <li><a href=\"/84/243.html\">Elijah Browning</a></li>\\n    <li><a href=\"/84/244.html\">Webster Ford</a></li>\\n    <li><a href=\"/84/245.html\">The Spooniad</a></li>\\n    <li><a href=\"/84/246.html\">Epilogue</a></li>\\n  </ol>\\n</blockquote>'"
      ]
     },
     "execution_count": 4,
     "metadata": {},
     "output_type": "execute_result"
    }
   ],
   "source": [
    "poem_names"
   ]
  },
  {
   "cell_type": "code",
   "execution_count": 5,
   "metadata": {},
   "outputs": [
    {
     "data": {
      "text/plain": [
       "<a href=\"/84/1.html\">The Hill</a>"
      ]
     },
     "execution_count": 5,
     "metadata": {},
     "output_type": "execute_result"
    }
   ],
   "source": [
    "soup = BeautifulSoup(poem_names, 'html.parser')\n",
    "chapters = soup.find_all('a')\n",
    "chapters[0]"
   ]
  },
  {
   "cell_type": "code",
   "execution_count": 6,
   "metadata": {},
   "outputs": [
    {
     "data": {
      "text/plain": [
       "246"
      ]
     },
     "execution_count": 6,
     "metadata": {},
     "output_type": "execute_result"
    }
   ],
   "source": [
    "len(chapters)"
   ]
  },
  {
   "cell_type": "code",
   "execution_count": 7,
   "metadata": {},
   "outputs": [],
   "source": [
    "extracted_chapter_details = list()\n",
    "for ind, chapter in enumerate(chapters):\n",
    "    extracted_chapter_details.append({\n",
    "        'chapter': ind + 1,\n",
    "        'name': chapter.text\n",
    "    })"
   ]
  },
  {
   "cell_type": "code",
   "execution_count": 8,
   "metadata": {},
   "outputs": [
    {
     "data": {
      "text/plain": [
       "[{'chapter': 1, 'name': 'The Hill'},\n",
       " {'chapter': 2, 'name': 'Hod Putt'},\n",
       " {'chapter': 3, 'name': 'Ollie McGee'},\n",
       " {'chapter': 4, 'name': 'Fletcher McGee'},\n",
       " {'chapter': 5, 'name': 'Robert Fulton Tanner'},\n",
       " {'chapter': 6, 'name': 'Cassius Hueffer'},\n",
       " {'chapter': 7, 'name': 'Serepta Mason'},\n",
       " {'chapter': 8, 'name': 'Amanda Barker'},\n",
       " {'chapter': 9, 'name': 'Constance Hately'},\n",
       " {'chapter': 10, 'name': 'Chase Henry'},\n",
       " {'chapter': 11, 'name': 'Harry Carey Goodhue'},\n",
       " {'chapter': 12, 'name': 'Judge Somers'},\n",
       " {'chapter': 13, 'name': 'Kinsey Keene'},\n",
       " {'chapter': 14, 'name': 'Benjamin Pantier'},\n",
       " {'chapter': 15, 'name': 'Mrs. Benjamin Pantier'},\n",
       " {'chapter': 16, 'name': 'Reuben Pantier'},\n",
       " {'chapter': 17, 'name': 'Emily Sparks'},\n",
       " {'chapter': 18, 'name': 'Trainor, the Druggist'},\n",
       " {'chapter': 19, 'name': 'Daisy Fraser'},\n",
       " {'chapter': 20, 'name': 'Benjamin Fraser'},\n",
       " {'chapter': 21, 'name': 'Minerva Jones'},\n",
       " {'chapter': 22, 'name': 'Indignation” Jones'},\n",
       " {'chapter': 23, 'name': 'Doctor Meyers'},\n",
       " {'chapter': 24, 'name': 'Mrs. Meyers'},\n",
       " {'chapter': 25, 'name': 'Butch” Weldy'},\n",
       " {'chapter': 26, 'name': 'Knowlt Hoheimer'},\n",
       " {'chapter': 27, 'name': 'Lydia Puckett'},\n",
       " {'chapter': 28, 'name': 'Frank Drummer'},\n",
       " {'chapter': 29, 'name': 'Hare Drummer'},\n",
       " {'chapter': 30, 'name': 'Conrad Siever'},\n",
       " {'chapter': 31, 'name': 'Doc Hill'},\n",
       " {'chapter': 32, 'name': 'Andy the Night-Watch'},\n",
       " {'chapter': 33, 'name': 'Sarah Brown'},\n",
       " {'chapter': 34, 'name': 'Percy Bysshe Shelley'},\n",
       " {'chapter': 35, 'name': 'Flossie Cabanis'},\n",
       " {'chapter': 36, 'name': 'Julia Miller'},\n",
       " {'chapter': 37, 'name': 'Johnnie Sayre'},\n",
       " {'chapter': 38, 'name': 'Charlie French'},\n",
       " {'chapter': 39, 'name': 'Zenas Witt'},\n",
       " {'chapter': 40, 'name': 'Theodore the Poet'},\n",
       " {'chapter': 41, 'name': 'The Town Marshal'},\n",
       " {'chapter': 42, 'name': 'Jack McGuire'},\n",
       " {'chapter': 43, 'name': 'Dorcas Gustine'},\n",
       " {'chapter': 44, 'name': 'Nicholas Bindle'},\n",
       " {'chapter': 45, 'name': 'Jacob Goodpasture'},\n",
       " {'chapter': 46, 'name': 'Harold Arnett'},\n",
       " {'chapter': 47, 'name': 'Margaret Fuller Slack'},\n",
       " {'chapter': 48, 'name': 'George Trimble'},\n",
       " {'chapter': 49, 'name': 'Dr. Siegfried Iseman'},\n",
       " {'chapter': 50, 'name': 'Ace” Shaw'},\n",
       " {'chapter': 51, 'name': 'Lois Spears'},\n",
       " {'chapter': 52, 'name': 'Justice Arnett'},\n",
       " {'chapter': 53, 'name': 'Willard Fluke'},\n",
       " {'chapter': 54, 'name': 'Aner Clute'},\n",
       " {'chapter': 55, 'name': 'Lucius Atherton'},\n",
       " {'chapter': 56, 'name': 'Homer Clapp'},\n",
       " {'chapter': 57, 'name': 'Deacon Taylor'},\n",
       " {'chapter': 58, 'name': 'Sam Hookey'},\n",
       " {'chapter': 59, 'name': 'Cooney Potter'},\n",
       " {'chapter': 60, 'name': 'Fiddler Jones'},\n",
       " {'chapter': 61, 'name': 'Nellie Clark'},\n",
       " {'chapter': 62, 'name': 'Louise Smith'},\n",
       " {'chapter': 63, 'name': 'Herbert Marshall'},\n",
       " {'chapter': 64, 'name': 'George Gray'},\n",
       " {'chapter': 65, 'name': 'Hon. Henry Bennett'},\n",
       " {'chapter': 66, 'name': 'Griffy the Cooper'},\n",
       " {'chapter': 67, 'name': 'Sexsmith the Dentist'},\n",
       " {'chapter': 68, 'name': 'A. D. Blood'},\n",
       " {'chapter': 69, 'name': 'Robert Southey Burke'},\n",
       " {'chapter': 70, 'name': 'Dora Williams'},\n",
       " {'chapter': 71, 'name': 'Mrs. Williams'},\n",
       " {'chapter': 72, 'name': 'William and Emily'},\n",
       " {'chapter': 73, 'name': 'The Circuit Judge'},\n",
       " {'chapter': 74, 'name': 'Blind Jack'},\n",
       " {'chapter': 75, 'name': 'John Horace Burleson'},\n",
       " {'chapter': 76, 'name': 'Nancy Knapp'},\n",
       " {'chapter': 77, 'name': 'Barry Holden'},\n",
       " {'chapter': 78, 'name': 'State’s Attorney Fallas'},\n",
       " {'chapter': 79, 'name': 'Wendell P. Bloyd'},\n",
       " {'chapter': 80, 'name': 'Francis Turner'},\n",
       " {'chapter': 81, 'name': 'Franklin Jones'},\n",
       " {'chapter': 82, 'name': 'John M. Church'},\n",
       " {'chapter': 83, 'name': 'Russian Sonia'},\n",
       " {'chapter': 84, 'name': 'Isa Nutter'},\n",
       " {'chapter': 85, 'name': 'Barney Hainsfeather'},\n",
       " {'chapter': 86, 'name': 'Petit, the Poet'},\n",
       " {'chapter': 87, 'name': 'Pauline Barrett'},\n",
       " {'chapter': 88, 'name': 'Mrs. Charles Bliss'},\n",
       " {'chapter': 89, 'name': 'Mrs. George Reece'},\n",
       " {'chapter': 90, 'name': 'Rev. Lemuel Wiley'},\n",
       " {'chapter': 91, 'name': 'Thomas Ross, Jr'},\n",
       " {'chapter': 92, 'name': 'Rev. Abner Peet'},\n",
       " {'chapter': 93, 'name': 'Jefferson Howard'},\n",
       " {'chapter': 94, 'name': 'Judge Selah Lively'},\n",
       " {'chapter': 95, 'name': 'Albert Schirding'},\n",
       " {'chapter': 96, 'name': 'Jonas Keene'},\n",
       " {'chapter': 97, 'name': 'Eugenia Todd'},\n",
       " {'chapter': 98, 'name': 'Yee Bow'},\n",
       " {'chapter': 99, 'name': 'Washington McNeely'},\n",
       " {'chapter': 100, 'name': 'Paul McNeely'},\n",
       " {'chapter': 101, 'name': 'Mary McNeely'},\n",
       " {'chapter': 102, 'name': 'Daniel M’Cumber'},\n",
       " {'chapter': 103, 'name': 'Georgine Sand Miner'},\n",
       " {'chapter': 104, 'name': 'Thomas Rhodes'},\n",
       " {'chapter': 105, 'name': 'Ida Chicken'},\n",
       " {'chapter': 106, 'name': 'Penniwit, the Artist'},\n",
       " {'chapter': 107, 'name': 'Jim Brown'},\n",
       " {'chapter': 108, 'name': 'Robert Davidson'},\n",
       " {'chapter': 109, 'name': 'Elsa Wertman'},\n",
       " {'chapter': 110, 'name': 'Hamilton Greene'},\n",
       " {'chapter': 111, 'name': 'Ernest Hyde'},\n",
       " {'chapter': 112, 'name': 'Roger Heston'},\n",
       " {'chapter': 113, 'name': 'Amos Sibley'},\n",
       " {'chapter': 114, 'name': 'Mrs. Sibley'},\n",
       " {'chapter': 115, 'name': 'Adam Weirauch'},\n",
       " {'chapter': 116, 'name': 'Ezra Bartlett'},\n",
       " {'chapter': 117, 'name': 'Amelia Garrick'},\n",
       " {'chapter': 118, 'name': 'John Hancock Otis'},\n",
       " {'chapter': 119, 'name': 'Anthony Findlay'},\n",
       " {'chapter': 120, 'name': 'John Cabanis'},\n",
       " {'chapter': 121, 'name': 'The Unknown'},\n",
       " {'chapter': 122, 'name': 'Alexander Throckmorton'},\n",
       " {'chapter': 123, 'name': 'Jonathan Swift Somers'},\n",
       " {'chapter': 124, 'name': 'Widow McFarlane'},\n",
       " {'chapter': 125, 'name': 'Carl Hamblin'},\n",
       " {'chapter': 126, 'name': 'Editor Whedon'},\n",
       " {'chapter': 127, 'name': 'Eugene Carman'},\n",
       " {'chapter': 128, 'name': 'Clarence Fawcett'},\n",
       " {'chapter': 129, 'name': 'W. Lloyd Garrison Standard'},\n",
       " {'chapter': 130, 'name': 'Professor Newcomer'},\n",
       " {'chapter': 131, 'name': 'Ralph Rhodes'},\n",
       " {'chapter': 132, 'name': 'Mickey M’Grew'},\n",
       " {'chapter': 133, 'name': 'Rosie Roberts'},\n",
       " {'chapter': 134, 'name': 'Oscar Hummel'},\n",
       " {'chapter': 135, 'name': 'Roscoe Purkapile'},\n",
       " {'chapter': 136, 'name': 'Mrs. Purkapile'},\n",
       " {'chapter': 137, 'name': 'Josiah Tompkins'},\n",
       " {'chapter': 138, 'name': 'Mrs. Kessler'},\n",
       " {'chapter': 139, 'name': 'Harmon Whitney'},\n",
       " {'chapter': 140, 'name': 'Bert Kessler'},\n",
       " {'chapter': 141, 'name': 'Lambert Hutchins'},\n",
       " {'chapter': 142, 'name': 'Lillian Stewart'},\n",
       " {'chapter': 143, 'name': 'Hortense Robbins'},\n",
       " {'chapter': 144, 'name': 'Batterton Dobyns'},\n",
       " {'chapter': 145, 'name': 'Jacob Godbey'},\n",
       " {'chapter': 146, 'name': 'Walter Simmons'},\n",
       " {'chapter': 147, 'name': 'Tom Beatty'},\n",
       " {'chapter': 148, 'name': 'Roy Butler'},\n",
       " {'chapter': 149, 'name': 'Searcy Foote'},\n",
       " {'chapter': 150, 'name': 'Edmund Pollard'},\n",
       " {'chapter': 151, 'name': 'Thomas Trevelyan'},\n",
       " {'chapter': 152, 'name': 'Percival Sharp'},\n",
       " {'chapter': 153, 'name': 'Hiram Scates'},\n",
       " {'chapter': 154, 'name': 'Peleg Poague'},\n",
       " {'chapter': 155, 'name': 'Jeduthan Hawley'},\n",
       " {'chapter': 156, 'name': 'Abel Melveny'},\n",
       " {'chapter': 157, 'name': 'Oaks Tutt'},\n",
       " {'chapter': 158, 'name': 'Elliott Hawkins'},\n",
       " {'chapter': 159, 'name': 'Voltaire Johnson'},\n",
       " {'chapter': 160, 'name': 'English Thornton'},\n",
       " {'chapter': 161, 'name': 'Enoch Dunlap'},\n",
       " {'chapter': 162, 'name': 'Ida Frickey'},\n",
       " {'chapter': 163, 'name': 'Seth Compton'},\n",
       " {'chapter': 164, 'name': 'Felix Schmidt'},\n",
       " {'chapter': 165, 'name': 'Schroeder the Fisherman'},\n",
       " {'chapter': 166, 'name': 'Richard Bone'},\n",
       " {'chapter': 167, 'name': 'Silas Dement'},\n",
       " {'chapter': 168, 'name': 'Dillard Sissman'},\n",
       " {'chapter': 169, 'name': 'Jonathan Houghton'},\n",
       " {'chapter': 170, 'name': 'E. C. Culbertson'},\n",
       " {'chapter': 171, 'name': 'Shack Dye'},\n",
       " {'chapter': 172, 'name': 'Hildrup Tubbs'},\n",
       " {'chapter': 173, 'name': 'Henry Tripp'},\n",
       " {'chapter': 174, 'name': 'Granville Calhoun'},\n",
       " {'chapter': 175, 'name': 'Henry C. Calhoun'},\n",
       " {'chapter': 176, 'name': 'Alfred Moir'},\n",
       " {'chapter': 177, 'name': 'Perry Zoll'},\n",
       " {'chapter': 178, 'name': 'Dippold the Optician'},\n",
       " {'chapter': 179, 'name': 'Magrady Graham'},\n",
       " {'chapter': 180, 'name': 'Archibald Higbie'},\n",
       " {'chapter': 181, 'name': 'Tom Merritt'},\n",
       " {'chapter': 182, 'name': 'Mrs. Merritt'},\n",
       " {'chapter': 183, 'name': 'Elmer Karr'},\n",
       " {'chapter': 184, 'name': 'Elizabeth Childers'},\n",
       " {'chapter': 185, 'name': 'Edith Conant'},\n",
       " {'chapter': 186, 'name': 'Charles Webster'},\n",
       " {'chapter': 187, 'name': 'Father Malloy'},\n",
       " {'chapter': 188, 'name': 'Ami Green'},\n",
       " {'chapter': 189, 'name': 'Calvin Campbell'},\n",
       " {'chapter': 190, 'name': 'Henry Layton'},\n",
       " {'chapter': 191, 'name': 'Harlan Sewall'},\n",
       " {'chapter': 192, 'name': 'Ippolit Konovaloff'},\n",
       " {'chapter': 193, 'name': 'Henry Phipps'},\n",
       " {'chapter': 194, 'name': 'Harry Wilmans'},\n",
       " {'chapter': 195, 'name': 'John Wasson'},\n",
       " {'chapter': 196, 'name': 'Many Soldiers'},\n",
       " {'chapter': 197, 'name': 'Godwin James'},\n",
       " {'chapter': 198, 'name': 'Lyman King'},\n",
       " {'chapter': 199, 'name': 'Caroline Branson'},\n",
       " {'chapter': 200, 'name': 'Anne Rutledge'},\n",
       " {'chapter': 201, 'name': 'Hamlet Micure'},\n",
       " {'chapter': 202, 'name': 'Mabel Osborne'},\n",
       " {'chapter': 203, 'name': 'William H. Herndon'},\n",
       " {'chapter': 204, 'name': 'Rebecca Wasson'},\n",
       " {'chapter': 205, 'name': 'Rutherford McDowell'},\n",
       " {'chapter': 206, 'name': 'Hannah Armstrong'},\n",
       " {'chapter': 207, 'name': 'Lucinda Matlock'},\n",
       " {'chapter': 208, 'name': 'Davis Matlock'},\n",
       " {'chapter': 209, 'name': 'Herman Altman'},\n",
       " {'chapter': 210, 'name': 'Jennie M’Grew'},\n",
       " {'chapter': 211, 'name': 'Columbus Cheney'},\n",
       " {'chapter': 212, 'name': 'Wallace Ferguson'},\n",
       " {'chapter': 213, 'name': 'Marie Bateson'},\n",
       " {'chapter': 214, 'name': 'Tennessee Claflin Shope'},\n",
       " {'chapter': 215, 'name': 'Plymouth Rock Joe'},\n",
       " {'chapter': 216, 'name': 'Imanuel Ehrenhardt'},\n",
       " {'chapter': 217, 'name': 'Samuel Gardner'},\n",
       " {'chapter': 218, 'name': 'Dow Kritt'},\n",
       " {'chapter': 219, 'name': 'William Jones'},\n",
       " {'chapter': 220, 'name': 'William Goode'},\n",
       " {'chapter': 221, 'name': 'J. Milton Miles'},\n",
       " {'chapter': 222, 'name': 'Faith Matheny'},\n",
       " {'chapter': 223, 'name': 'Scholfield Huxley'},\n",
       " {'chapter': 224, 'name': 'Willie Metcalf'},\n",
       " {'chapter': 225, 'name': 'Willie Pennington'},\n",
       " {'chapter': 226, 'name': 'The Village Atheist'},\n",
       " {'chapter': 227, 'name': 'John Ballard'},\n",
       " {'chapter': 228, 'name': 'Julian Scott'},\n",
       " {'chapter': 229, 'name': 'Alfonso Churchill'},\n",
       " {'chapter': 230, 'name': 'Zilpha Marsh'},\n",
       " {'chapter': 231, 'name': 'James Garber'},\n",
       " {'chapter': 232, 'name': 'Lydia Humphrey'},\n",
       " {'chapter': 233, 'name': 'Le Roy Goldman'},\n",
       " {'chapter': 234, 'name': 'Gustav Richter'},\n",
       " {'chapter': 235, 'name': 'Arlo Will'},\n",
       " {'chapter': 236, 'name': 'Captain Orlando Killion'},\n",
       " {'chapter': 237, 'name': 'Jeremy Carlisle'},\n",
       " {'chapter': 238, 'name': 'Joseph Dixon'},\n",
       " {'chapter': 239, 'name': 'Judson Stoddard'},\n",
       " {'chapter': 240, 'name': 'Russell Kincaid'},\n",
       " {'chapter': 241, 'name': 'Aaron Hatfield'},\n",
       " {'chapter': 242, 'name': 'Isaiah Beethoven'},\n",
       " {'chapter': 243, 'name': 'Elijah Browning'},\n",
       " {'chapter': 244, 'name': 'Webster Ford'},\n",
       " {'chapter': 245, 'name': 'The Spooniad'},\n",
       " {'chapter': 246, 'name': 'Epilogue'}]"
      ]
     },
     "execution_count": 8,
     "metadata": {},
     "output_type": "execute_result"
    }
   ],
   "source": [
    "extracted_chapter_details"
   ]
  },
  {
   "cell_type": "code",
   "execution_count": 9,
   "metadata": {},
   "outputs": [],
   "source": [
    "with open('./cleaned_chapter_names.csv', 'w') as f:\n",
    "    fieldnames = ['chapter', 'name']\n",
    "    writer = csv.DictWriter(f, fieldnames=fieldnames)\n",
    "    \n",
    "    writer.writeheader()\n",
    "    writer.writerows(extracted_chapter_details)"
   ]
  }
 ],
 "metadata": {
  "kernelspec": {
   "display_name": "Python 3",
   "language": "python",
   "name": "python3"
  },
  "language_info": {
   "codemirror_mode": {
    "name": "ipython",
    "version": 3
   },
   "file_extension": ".py",
   "mimetype": "text/x-python",
   "name": "python",
   "nbconvert_exporter": "python",
   "pygments_lexer": "ipython3",
   "version": "3.6.4"
  }
 },
 "nbformat": 4,
 "nbformat_minor": 2
}
