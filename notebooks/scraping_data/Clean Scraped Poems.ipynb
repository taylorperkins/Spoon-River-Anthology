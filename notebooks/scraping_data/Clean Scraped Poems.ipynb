{
 "cells": [
  {
   "cell_type": "markdown",
   "metadata": {},
   "source": [
    "There are a couple things about the poems that are off when I scraped them. \n",
    "First, there are blank lines in the files. \n",
    "I want to get rid of those.\n",
    "Second, on every 5th line, there is a count. \n",
    "That also needs to be removed."
   ]
  },
  {
   "cell_type": "code",
   "execution_count": 1,
   "metadata": {},
   "outputs": [
    {
     "name": "stdout",
     "output_type": "stream",
     "text": [
      "/Users/taylorperkins/Desktop/projects/spoon_river/data/poems\n"
     ]
    }
   ],
   "source": [
    "%cd ../../data/poems/"
   ]
  },
  {
   "cell_type": "code",
   "execution_count": 2,
   "metadata": {},
   "outputs": [
    {
     "name": "stdout",
     "output_type": "stream",
     "text": [
      "     492\r\n"
     ]
    }
   ],
   "source": [
    "!ls -1 | wc -l"
   ]
  },
  {
   "cell_type": "markdown",
   "metadata": {},
   "source": [
    "This is coming in from the scraping of the original poems."
   ]
  },
  {
   "cell_type": "code",
   "execution_count": 3,
   "metadata": {},
   "outputs": [
    {
     "name": "stderr",
     "output_type": "stream",
     "text": [
      "mv: rename *.html to *.txt: No such file or directory\n"
     ]
    }
   ],
   "source": [
    "%%bash\n",
    "for file in *.html; do\n",
    "    mv \"$file\" \"$(basename \"$file\" .html).txt\"\n",
    "done"
   ]
  },
  {
   "cell_type": "code",
   "execution_count": 4,
   "metadata": {},
   "outputs": [],
   "source": [
    "for i in range(1, 247):\n",
    "    lines = list()\n",
    "    \n",
    "    with open(f'{i}_poem.txt', 'r') as f:\n",
    "        count = 0\n",
    "        for line in f:\n",
    "            if line.strip():\n",
    "                count += 1\n",
    "                \n",
    "                if not count % 5:\n",
    "                    line = line.replace(str(count), '')\n",
    "                    \n",
    "                lines.append(line.strip())\n",
    "                \n",
    "    with open(f'{i}_cleaned_poem.txt', 'w') as f:\n",
    "        for line in lines:\n",
    "            f.write(line + '\\n')"
   ]
  }
 ],
 "metadata": {
  "kernelspec": {
   "display_name": "Python 3",
   "language": "python",
   "name": "python3"
  },
  "language_info": {
   "codemirror_mode": {
    "name": "ipython",
    "version": 3
   },
   "file_extension": ".py",
   "mimetype": "text/x-python",
   "name": "python",
   "nbconvert_exporter": "python",
   "pygments_lexer": "ipython3",
   "version": "3.6.4"
  }
 },
 "nbformat": 4,
 "nbformat_minor": 2
}
