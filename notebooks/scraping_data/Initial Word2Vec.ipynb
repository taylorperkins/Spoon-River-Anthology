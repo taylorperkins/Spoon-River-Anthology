{
 "cells": [
  {
   "cell_type": "code",
   "execution_count": 1,
   "metadata": {},
   "outputs": [],
   "source": [
    "import os\n",
    "\n",
    "import gensim "
   ]
  },
  {
   "cell_type": "code",
   "execution_count": 2,
   "metadata": {},
   "outputs": [
    {
     "name": "stdout",
     "output_type": "stream",
     "text": [
      "/Users/taylorperkins/Desktop/projects/spoon_river/data/poems\n"
     ]
    }
   ],
   "source": [
    "%cd ../../data/poems/"
   ]
  },
  {
   "cell_type": "code",
   "execution_count": 3,
   "metadata": {},
   "outputs": [],
   "source": [
    "documents = list()\n",
    "for file in os.listdir('./'):\n",
    "    if 'cleaned' in file:\n",
    "        with open(f'./{file}') as f:\n",
    "            for line in f:\n",
    "                documents.append(gensim.utils.simple_preprocess(line))"
   ]
  },
  {
   "cell_type": "code",
   "execution_count": 4,
   "metadata": {},
   "outputs": [
    {
     "data": {
      "text/plain": [
       "[['dear', 'jane', 'dear', 'winsome', 'jane'],\n",
       " ['how', 'you', 'stole', 'in', 'the', 'room', 'where', 'lay', 'so', 'ill'],\n",
       " ['in', 'your', 'nurse', 'cap', 'and', 'linen', 'cuffs'],\n",
       " ['and', 'took', 'my', 'hand', 'and', 'said', 'with', 'smile'],\n",
       " ['you', 'are', 'not', 'so', 'ill', 'you', 'll', 'soon', 'be', 'well']]"
      ]
     },
     "execution_count": 4,
     "metadata": {},
     "output_type": "execute_result"
    }
   ],
   "source": [
    "documents[:5]"
   ]
  },
  {
   "cell_type": "code",
   "execution_count": 22,
   "metadata": {},
   "outputs": [
    {
     "data": {
      "text/plain": [
       "(268574, 359620)"
      ]
     },
     "execution_count": 22,
     "metadata": {},
     "output_type": "execute_result"
    }
   ],
   "source": [
    "model = gensim.models.Word2Vec(documents, size=10, window=15, min_count=1, workers=10)\n",
    "model.train(documents, total_examples=len(documents),epochs=10)"
   ]
  },
  {
   "cell_type": "code",
   "execution_count": 23,
   "metadata": {},
   "outputs": [
    {
     "data": {
      "text/plain": [
       "[('indicted', 0.9896356463432312),\n",
       " ('prescription', 0.9895458221435547),\n",
       " ('slacks', 0.9872922301292419),\n",
       " ('marks', 0.9861584901809692),\n",
       " ('needed', 0.9860115051269531),\n",
       " ('fails', 0.9833593368530273),\n",
       " ('sundry', 0.9829224944114685),\n",
       " ('caius', 0.9822108745574951),\n",
       " ('woe', 0.980914831161499),\n",
       " ('rapture', 0.9806109666824341)]"
      ]
     },
     "execution_count": 23,
     "metadata": {},
     "output_type": "execute_result"
    }
   ],
   "source": [
    "model.wv.most_similar(positive='regret')"
   ]
  },
  {
   "cell_type": "code",
   "execution_count": 24,
   "metadata": {},
   "outputs": [
    {
     "data": {
      "text/plain": [
       "[('those', 0.9992213249206543),\n",
       " ('whether', 0.9991551637649536),\n",
       " ('swiftly', 0.9987545013427734),\n",
       " ('die', 0.9987128376960754),\n",
       " ('will', 0.9986438751220703),\n",
       " ('why', 0.9984616637229919),\n",
       " ('ever', 0.9983880519866943),\n",
       " ('god', 0.9983640313148499),\n",
       " ('but', 0.9982120394706726),\n",
       " ('yes', 0.9981740117073059)]"
      ]
     },
     "execution_count": 24,
     "metadata": {},
     "output_type": "execute_result"
    }
   ],
   "source": [
    "model.wv.most_similar(positive='peace')"
   ]
  },
  {
   "cell_type": "code",
   "execution_count": 25,
   "metadata": {},
   "outputs": [
    {
     "data": {
      "text/plain": [
       "[('eye', 0.9995290040969849),\n",
       " ('broken', 0.9994204044342041),\n",
       " ('thus', 0.9994138479232788),\n",
       " ('its', 0.999403715133667),\n",
       " ('dreams', 0.9993531107902527),\n",
       " ('grew', 0.9993333220481873),\n",
       " ('from', 0.999315619468689),\n",
       " ('beautiful', 0.9993146657943726),\n",
       " ('figure', 0.9993075728416443),\n",
       " ('stone', 0.9992834329605103)]"
      ]
     },
     "execution_count": 25,
     "metadata": {},
     "output_type": "execute_result"
    }
   ],
   "source": [
    "model.wv.most_similar(positive='death')"
   ]
  },
  {
   "cell_type": "code",
   "execution_count": 26,
   "metadata": {},
   "outputs": [
    {
     "data": {
      "text/plain": [
       "[('child', 0.9991823434829712),\n",
       " ('curtain', 0.9991061687469482),\n",
       " ('spoke', 0.9989506602287292),\n",
       " ('took', 0.9989252090454102),\n",
       " ('and', 0.9989054799079895),\n",
       " ('own', 0.9987491965293884),\n",
       " ('stand', 0.9987296462059021),\n",
       " ('bank', 0.9987081289291382),\n",
       " ('fell', 0.9986538290977478),\n",
       " ('john', 0.9986299872398376)]"
      ]
     },
     "execution_count": 26,
     "metadata": {},
     "output_type": "execute_result"
    }
   ],
   "source": [
    "model.wv.most_similar(positive='sorrow')"
   ]
  },
  {
   "cell_type": "code",
   "execution_count": 27,
   "metadata": {},
   "outputs": [
    {
     "data": {
      "text/plain": [
       "[('cock', 0.9988521933555603),\n",
       " ('book', 0.9987638592720032),\n",
       " ('before', 0.9987055659294128),\n",
       " ('sons', 0.9985787272453308),\n",
       " ('these', 0.9985291361808777),\n",
       " ('presbyterian', 0.9985078573226929),\n",
       " ('your', 0.9983957409858704),\n",
       " ('morning', 0.9983429908752441),\n",
       " ('body', 0.9982125163078308),\n",
       " ('year', 0.9981353282928467)]"
      ]
     },
     "execution_count": 27,
     "metadata": {},
     "output_type": "execute_result"
    }
   ],
   "source": [
    "model.wv.most_similar(positive='life')"
   ]
  },
  {
   "cell_type": "code",
   "execution_count": null,
   "metadata": {},
   "outputs": [],
   "source": []
  }
 ],
 "metadata": {
  "kernelspec": {
   "display_name": "Python 3",
   "language": "python",
   "name": "python3"
  },
  "language_info": {
   "codemirror_mode": {
    "name": "ipython",
    "version": 3
   },
   "file_extension": ".py",
   "mimetype": "text/x-python",
   "name": "python",
   "nbconvert_exporter": "python",
   "pygments_lexer": "ipython3",
   "version": "3.6.4"
  }
 },
 "nbformat": 4,
 "nbformat_minor": 2
}
