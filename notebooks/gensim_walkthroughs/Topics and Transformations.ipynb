{
 "cells": [
  {
   "cell_type": "code",
   "execution_count": 1,
   "metadata": {},
   "outputs": [],
   "source": [
    "import os\n",
    "import logging\n",
    "\n",
    "from gensim import corpora, models, similarities\n",
    "\n",
    "logging.basicConfig(format='%(asctime)s : %(levelname)s : %(message)s', level=logging.INFO)"
   ]
  },
  {
   "cell_type": "code",
   "execution_count": 2,
   "metadata": {},
   "outputs": [
    {
     "name": "stderr",
     "output_type": "stream",
     "text": [
      "2018-06-23 12:48:46,328 : INFO : loading Dictionary object from ../data/deerwester.dict\n",
      "2018-06-23 12:48:46,331 : INFO : loaded ../data/deerwester.dict\n",
      "2018-06-23 12:48:46,334 : INFO : loaded corpus index from ../data/deerwester.mm.index\n",
      "2018-06-23 12:48:46,334 : INFO : initializing cython corpus reader from ../data/deerwester.mm\n",
      "2018-06-23 12:48:46,338 : INFO : accepted corpus with 9 documents, 12 features, 28 non-zero entries\n"
     ]
    },
    {
     "name": "stdout",
     "output_type": "stream",
     "text": [
      "Used files from first tutorial\n"
     ]
    }
   ],
   "source": [
    "if (os.path.exists('../../data/deerwester.dict')):\n",
    "    dictionary = corpora.Dictionary.load('../../data/deerwester.dict')\n",
    "    corpus = corpora.MmCorpus('../../data/deerwester.mm')\n",
    "    print('Used files from first tutorial')\n",
    "else:\n",
    "    print('Please go through first tutorial to create initial dataset')"
   ]
  },
  {
   "cell_type": "code",
   "execution_count": 3,
   "metadata": {},
   "outputs": [
    {
     "name": "stderr",
     "output_type": "stream",
     "text": [
      "2018-06-23 12:48:46,348 : INFO : collecting document frequencies\n",
      "2018-06-23 12:48:46,350 : INFO : PROGRESS: processing document #0\n",
      "2018-06-23 12:48:46,354 : INFO : calculating IDF weights for 9 documents and 11 features (28 matrix non-zeros)\n"
     ]
    }
   ],
   "source": [
    "tfidf = models.TfidfModel(corpus)"
   ]
  },
  {
   "cell_type": "code",
   "execution_count": 4,
   "metadata": {},
   "outputs": [
    {
     "name": "stdout",
     "output_type": "stream",
     "text": [
      "[(0, 0.7071067811865476), (1, 0.7071067811865476)]\n"
     ]
    }
   ],
   "source": [
    "doc_bow = [(0, 1), (1, 1)]\n",
    "print(tfidf[doc_bow])"
   ]
  },
  {
   "cell_type": "markdown",
   "metadata": {},
   "source": [
    "### Transformation\n",
    "Generally, the model wont transform everything on `model[corpus]`. Instead, it is a generator wrapper that yields the results on iteration"
   ]
  },
  {
   "cell_type": "code",
   "execution_count": 5,
   "metadata": {},
   "outputs": [
    {
     "name": "stdout",
     "output_type": "stream",
     "text": [
      "[(0, 0.5773502691896257), (1, 0.5773502691896257), (2, 0.5773502691896257)]\n",
      "[(0, 0.44424552527467476), (3, 0.44424552527467476), (4, 0.44424552527467476), (5, 0.3244870206138555), (6, 0.44424552527467476), (7, 0.3244870206138555)]\n",
      "[(2, 0.5710059809418182), (5, 0.4170757362022777), (7, 0.4170757362022777), (8, 0.5710059809418182)]\n",
      "[(1, 0.49182558987264147), (5, 0.7184811607083769), (8, 0.49182558987264147)]\n",
      "[(3, 0.6282580468670046), (6, 0.6282580468670046), (7, 0.45889394536615247)]\n",
      "[(9, 1.0)]\n",
      "[(9, 0.7071067811865475), (10, 0.7071067811865475)]\n",
      "[(9, 0.5080429008916749), (10, 0.5080429008916749), (11, 0.695546419520037)]\n",
      "[(4, 0.6282580468670046), (10, 0.45889394536615247), (11, 0.6282580468670046)]\n"
     ]
    }
   ],
   "source": [
    "corpus_tfidf = tfidf[corpus]\n",
    "for doc in corpus_tfidf:\n",
    "    print(doc)"
   ]
  },
  {
   "cell_type": "markdown",
   "metadata": {},
   "source": [
    "### Chaining Transformations\n",
    "Transformations can be serialized on top of one another as a chain. "
   ]
  },
  {
   "cell_type": "code",
   "execution_count": 6,
   "metadata": {},
   "outputs": [
    {
     "name": "stderr",
     "output_type": "stream",
     "text": [
      "2018-06-23 12:48:46,385 : INFO : using serial LSI version on this node\n",
      "2018-06-23 12:48:46,388 : INFO : updating model with new documents\n",
      "2018-06-23 12:48:46,390 : INFO : preparing a new chunk of documents\n",
      "2018-06-23 12:48:46,393 : INFO : using 100 extra samples and 2 power iterations\n",
      "2018-06-23 12:48:46,394 : INFO : 1st phase: constructing (12, 102) action matrix\n",
      "2018-06-23 12:48:46,397 : INFO : orthonormalizing (12, 102) action matrix\n",
      "2018-06-23 12:48:46,401 : INFO : 2nd phase: running dense svd on (12, 9) matrix\n",
      "2018-06-23 12:48:46,403 : INFO : computing the final decomposition\n",
      "2018-06-23 12:48:46,406 : INFO : keeping 2 factors (discarding 47.565% of energy spectrum)\n",
      "2018-06-23 12:48:46,408 : INFO : processed documents up to #9\n",
      "2018-06-23 12:48:46,410 : INFO : topic #0(1.594): 0.703*\"trees\" + 0.538*\"graph\" + 0.402*\"minors\" + 0.187*\"survey\" + 0.061*\"system\" + 0.060*\"response\" + 0.060*\"time\" + 0.058*\"user\" + 0.049*\"computer\" + 0.035*\"interface\"\n",
      "2018-06-23 12:48:46,411 : INFO : topic #1(1.476): -0.460*\"system\" + -0.373*\"user\" + -0.332*\"eps\" + -0.328*\"interface\" + -0.320*\"time\" + -0.320*\"response\" + -0.293*\"computer\" + -0.280*\"human\" + -0.171*\"survey\" + 0.161*\"trees\"\n"
     ]
    }
   ],
   "source": [
    "lsi = models.LsiModel(corpus_tfidf, id2word=dictionary, num_topics=2)\n",
    "corpus_lsi = lsi[corpus_tfidf]"
   ]
  },
  {
   "cell_type": "code",
   "execution_count": 7,
   "metadata": {},
   "outputs": [
    {
     "name": "stderr",
     "output_type": "stream",
     "text": [
      "2018-06-23 12:48:46,427 : INFO : topic #0(1.594): 0.703*\"trees\" + 0.538*\"graph\" + 0.402*\"minors\" + 0.187*\"survey\" + 0.061*\"system\" + 0.060*\"response\" + 0.060*\"time\" + 0.058*\"user\" + 0.049*\"computer\" + 0.035*\"interface\"\n",
      "2018-06-23 12:48:46,430 : INFO : topic #1(1.476): -0.460*\"system\" + -0.373*\"user\" + -0.332*\"eps\" + -0.328*\"interface\" + -0.320*\"time\" + -0.320*\"response\" + -0.293*\"computer\" + -0.280*\"human\" + -0.171*\"survey\" + 0.161*\"trees\"\n"
     ]
    },
    {
     "data": {
      "text/plain": [
       "[(0,\n",
       "  '0.703*\"trees\" + 0.538*\"graph\" + 0.402*\"minors\" + 0.187*\"survey\" + 0.061*\"system\" + 0.060*\"response\" + 0.060*\"time\" + 0.058*\"user\" + 0.049*\"computer\" + 0.035*\"interface\"'),\n",
       " (1,\n",
       "  '-0.460*\"system\" + -0.373*\"user\" + -0.332*\"eps\" + -0.328*\"interface\" + -0.320*\"time\" + -0.320*\"response\" + -0.293*\"computer\" + -0.280*\"human\" + -0.171*\"survey\" + 0.161*\"trees\"')]"
      ]
     },
     "execution_count": 7,
     "metadata": {},
     "output_type": "execute_result"
    }
   ],
   "source": [
    "lsi.print_topics(2)"
   ]
  },
  {
   "cell_type": "code",
   "execution_count": 8,
   "metadata": {},
   "outputs": [
    {
     "name": "stdout",
     "output_type": "stream",
     "text": [
      "[(0, 0.0660078339609041), (1, -0.5200703306361846)]\n",
      "[(0, 0.19667592859142632), (1, -0.7609563167700043)]\n",
      "[(0, 0.08992639972446576), (1, -0.7241860626752504)]\n",
      "[(0, 0.07585847652178265), (1, -0.6320551586003423)]\n",
      "[(0, 0.10150299184980227), (1, -0.5737308483002952)]\n",
      "[(0, 0.7032108939378308), (1, 0.16115180214025907)]\n",
      "[(0, 0.8774787673119828), (1, 0.16758906864659556)]\n",
      "[(0, 0.9098624686818574), (1, 0.14086553628719167)]\n",
      "[(0, 0.6165825350569281), (1, -0.053929075663892684)]\n"
     ]
    }
   ],
   "source": [
    "for doc in corpus_lsi:\n",
    "    print(doc)"
   ]
  },
  {
   "cell_type": "code",
   "execution_count": 9,
   "metadata": {},
   "outputs": [
    {
     "name": "stderr",
     "output_type": "stream",
     "text": [
      "2018-06-23 12:48:46,499 : INFO : saving Projection object under ../data/model.lsi.projection, separately None\n",
      "2018-06-23 12:48:46,503 : INFO : saved ../data/model.lsi.projection\n",
      "2018-06-23 12:48:46,506 : INFO : saving LsiModel object under ../data/model.lsi, separately None\n",
      "2018-06-23 12:48:46,508 : INFO : not storing attribute projection\n",
      "2018-06-23 12:48:46,510 : INFO : not storing attribute dispatcher\n",
      "2018-06-23 12:48:46,512 : INFO : saved ../data/model.lsi\n",
      "2018-06-23 12:48:46,514 : INFO : loading LsiModel object from ../data/model.lsi\n",
      "2018-06-23 12:48:46,517 : INFO : loading id2word recursively from ../data/model.lsi.id2word.* with mmap=None\n",
      "2018-06-23 12:48:46,519 : INFO : setting ignored attribute projection to None\n",
      "2018-06-23 12:48:46,521 : INFO : setting ignored attribute dispatcher to None\n",
      "2018-06-23 12:48:46,523 : INFO : loaded ../data/model.lsi\n",
      "2018-06-23 12:48:46,526 : INFO : loading LsiModel object from ../data/model.lsi.projection\n",
      "2018-06-23 12:48:46,528 : INFO : loaded ../data/model.lsi.projection\n"
     ]
    }
   ],
   "source": [
    "lsi.save('../../data/model.lsi') \n",
    "lsi = models.LsiModel.load('../../data/model.lsi')"
   ]
  },
  {
   "cell_type": "code",
   "execution_count": 10,
   "metadata": {},
   "outputs": [
    {
     "name": "stderr",
     "output_type": "stream",
     "text": [
      "2018-06-23 12:48:46,541 : INFO : using symmetric alpha at 0.01\n",
      "2018-06-23 12:48:46,544 : INFO : using symmetric eta at 0.01\n",
      "2018-06-23 12:48:46,548 : INFO : using serial LDA version on this node\n",
      "2018-06-23 12:48:46,551 : INFO : running online (single-pass) LDA training, 100 topics, 1 passes over the supplied corpus of 9 documents, updating model once every 9 documents, evaluating perplexity every 9 documents, iterating 50x with a convergence threshold of 0.001000\n",
      "2018-06-23 12:48:46,553 : WARNING : too few updates, training might not converge; consider increasing the number of passes or iterations to improve accuracy\n",
      "2018-06-23 12:48:46,562 : INFO : -124.615 per-word bound, 32566585683365025254941702810102661120.0 perplexity estimate based on a held-out corpus of 9 documents with 29 words\n",
      "2018-06-23 12:48:46,563 : INFO : PROGRESS: pass 0, at document #9/9\n",
      "2018-06-23 12:48:46,570 : INFO : topic #80 (0.010): 0.083*\"user\" + 0.083*\"system\" + 0.083*\"graph\" + 0.083*\"trees\" + 0.083*\"eps\" + 0.083*\"computer\" + 0.083*\"time\" + 0.083*\"interface\" + 0.083*\"response\" + 0.083*\"human\"\n",
      "2018-06-23 12:48:46,572 : INFO : topic #75 (0.010): 0.083*\"user\" + 0.083*\"system\" + 0.083*\"graph\" + 0.083*\"trees\" + 0.083*\"eps\" + 0.083*\"computer\" + 0.083*\"time\" + 0.083*\"interface\" + 0.083*\"response\" + 0.083*\"human\"\n",
      "2018-06-23 12:48:46,575 : INFO : topic #24 (0.010): 0.083*\"user\" + 0.083*\"system\" + 0.083*\"graph\" + 0.083*\"trees\" + 0.083*\"eps\" + 0.083*\"computer\" + 0.083*\"time\" + 0.083*\"interface\" + 0.083*\"response\" + 0.083*\"human\"\n",
      "2018-06-23 12:48:46,582 : INFO : topic #48 (0.010): 0.083*\"user\" + 0.083*\"system\" + 0.083*\"graph\" + 0.083*\"trees\" + 0.083*\"eps\" + 0.083*\"computer\" + 0.083*\"time\" + 0.083*\"interface\" + 0.083*\"response\" + 0.083*\"human\"\n",
      "2018-06-23 12:48:46,586 : INFO : topic #88 (0.010): 0.083*\"user\" + 0.083*\"system\" + 0.083*\"graph\" + 0.083*\"trees\" + 0.083*\"eps\" + 0.083*\"computer\" + 0.083*\"time\" + 0.083*\"interface\" + 0.083*\"response\" + 0.083*\"human\"\n",
      "2018-06-23 12:48:46,588 : INFO : topic diff=87.453545, rho=1.000000\n"
     ]
    },
    {
     "name": "stdout",
     "output_type": "stream",
     "text": [
      "[(60, 0.7525)]\n",
      "[(8, 0.85857147)]\n",
      "[(73, 0.80200005)]\n",
      "[(73, 0.80200005)]\n",
      "[(69, 0.7525)]\n",
      "[(2, 0.505)]\n",
      "[(92, 0.67)]\n",
      "[(55, 0.7525)]\n",
      "[(93, 0.7525)]\n"
     ]
    }
   ],
   "source": [
    "lda = models.LdaModel(corpus, id2word=dictionary, num_topics=100)\n",
    "corpus_lda = lda[corpus]\n",
    "\n",
    "for doc in corpus_lda:\n",
    "    print(doc)"
   ]
  },
  {
   "cell_type": "code",
   "execution_count": 11,
   "metadata": {},
   "outputs": [
    {
     "name": "stderr",
     "output_type": "stream",
     "text": [
      "2018-06-23 12:48:46,658 : INFO : (0, '0.244*interface + 0.181*trees + 0.147*user + 0.079*system + 0.066*survey + 0.060*computer + 0.054*time + 0.045*response + 0.042*graph + 0.041*human')\n",
      "2018-06-23 12:48:46,664 : INFO : (1, '0.539*human + 0.131*computer + 0.065*user + 0.051*system + 0.051*graph + 0.050*trees + 0.042*survey + 0.026*eps + 0.016*time + 0.015*minors')\n",
      "2018-06-23 12:48:46,666 : INFO : (2, '0.202*minors + 0.144*graph + 0.136*user + 0.112*time + 0.096*survey + 0.091*eps + 0.081*response + 0.049*trees + 0.043*human + 0.032*system')\n",
      "2018-06-23 12:48:46,667 : INFO : (3, '0.331*response + 0.190*minors + 0.115*user + 0.079*interface + 0.073*system + 0.056*time + 0.051*survey + 0.044*graph + 0.034*computer + 0.015*trees')\n",
      "2018-06-23 12:48:46,669 : INFO : (4, '0.202*graph + 0.188*system + 0.172*survey + 0.143*interface + 0.100*computer + 0.053*response + 0.044*time + 0.033*trees + 0.025*eps + 0.021*user')\n",
      "2018-06-23 12:48:46,671 : INFO : (5, '0.206*interface + 0.154*time + 0.144*user + 0.104*minors + 0.101*trees + 0.075*computer + 0.065*survey + 0.064*response + 0.042*graph + 0.026*eps')\n",
      "2018-06-23 12:48:46,672 : INFO : (6, '0.164*eps + 0.161*graph + 0.160*time + 0.103*system + 0.087*human + 0.077*user + 0.076*minors + 0.058*interface + 0.048*computer + 0.027*survey')\n",
      "2018-06-23 12:48:46,673 : INFO : (7, '0.197*computer + 0.136*response + 0.114*survey + 0.104*eps + 0.096*graph + 0.094*system + 0.064*user + 0.054*time + 0.054*minors + 0.045*interface')\n",
      "2018-06-23 12:48:46,674 : INFO : (8, '0.349*interface + 0.257*system + 0.134*computer + 0.069*eps + 0.053*time + 0.043*graph + 0.039*response + 0.023*minors + 0.017*survey + 0.008*human')\n",
      "2018-06-23 12:48:46,676 : INFO : (9, '0.475*eps + 0.109*computer + 0.098*response + 0.080*interface + 0.059*time + 0.046*user + 0.034*human + 0.031*system + 0.030*graph + 0.023*trees')\n",
      "2018-06-23 12:48:46,677 : INFO : (10, '0.312*minors + 0.129*time + 0.115*response + 0.102*graph + 0.100*interface + 0.098*computer + 0.073*system + 0.033*trees + 0.029*human + 0.006*eps')\n",
      "2018-06-23 12:48:46,679 : INFO : (11, '0.238*survey + 0.229*minors + 0.130*trees + 0.092*time + 0.065*computer + 0.057*eps + 0.054*graph + 0.052*response + 0.048*interface + 0.020*system')\n",
      "2018-06-23 12:48:46,682 : INFO : (12, '0.219*time + 0.175*graph + 0.124*eps + 0.112*trees + 0.082*response + 0.080*system + 0.070*computer + 0.039*interface + 0.036*survey + 0.034*user')\n",
      "2018-06-23 12:48:46,690 : INFO : (13, '0.231*system + 0.214*minors + 0.155*computer + 0.134*interface + 0.084*human + 0.075*survey + 0.029*time + 0.027*user + 0.019*response + 0.018*graph')\n",
      "2018-06-23 12:48:46,692 : INFO : (14, '0.259*eps + 0.165*system + 0.150*trees + 0.115*interface + 0.083*user + 0.083*survey + 0.042*computer + 0.040*graph + 0.025*time + 0.015*response')\n",
      "2018-06-23 12:48:46,694 : INFO : (15, '0.325*eps + 0.205*computer + 0.144*minors + 0.089*user + 0.083*trees + 0.052*interface + 0.027*human + 0.019*graph + 0.018*system + 0.016*time')\n",
      "2018-06-23 12:48:46,696 : INFO : (16, '0.418*computer + 0.130*trees + 0.116*minors + 0.078*graph + 0.065*time + 0.049*interface + 0.037*user + 0.036*system + 0.032*survey + 0.026*eps')\n",
      "2018-06-23 12:48:46,701 : INFO : (17, '0.176*graph + 0.158*system + 0.141*user + 0.122*survey + 0.105*response + 0.102*interface + 0.087*minors + 0.039*trees + 0.033*human + 0.014*computer')\n",
      "2018-06-23 12:48:46,703 : INFO : (18, '0.238*human + 0.223*trees + 0.100*eps + 0.074*user + 0.071*interface + 0.068*survey + 0.065*response + 0.045*minors + 0.045*computer + 0.036*time')\n",
      "2018-06-23 12:48:46,705 : INFO : (19, '0.161*system + 0.128*time + 0.127*graph + 0.119*interface + 0.102*survey + 0.100*human + 0.092*trees + 0.069*computer + 0.046*minors + 0.033*eps')\n"
     ]
    },
    {
     "name": "stdout",
     "output_type": "stream",
     "text": [
      "[(0, 0.3708519919537779), (1, 0.4884949698748099), (2, 0.035486426129223016), (3, 0.0265292697860892), (4, 0.019880416242032052), (5, 0.014943835776605754), (6, 0.011211220511232587)]\n",
      "[(0, 0.8922968668186962), (1, 0.027221409126523554), (2, 0.02037429719776326), (3, 0.015171615527825266), (4, 0.011360423801781979)]\n",
      "[(0, 0.849480804333551), (1, 0.0378882171609596), (2, 0.02849628147093631), (3, 0.021224801370406252), (4, 0.01590435739430635), (5, 0.011955066052224336)]\n",
      "[(0, 0.05588048362490624), (1, 0.8314413298630288), (2, 0.028540219078447546), (3, 0.02122751826631778), (4, 0.015904912858907168), (5, 0.011955064060721287)]\n",
      "[(0, 0.8118508868456358), (1, 0.047186784568816385), (2, 0.035756120838126154), (3, 0.026568944838739884), (4, 0.01988032983961449), (5, 0.014943842801397777), (6, 0.011211220541425352)]\n",
      "[(0, 0.6241524518854794), (1, 0.0944785315487649), (2, 0.07104544730168587), (3, 0.05304966763682866), (4, 0.039760055937439254), (5, 0.029887665241162632), (6, 0.022422440996214387), (7, 0.016925968087586507), (8, 0.012381460153645895)]\n",
      "[(0, 0.748361664962957), (1, 0.06366164677290087), (2, 0.04774961038451639), (3, 0.03537590000025042), (4, 0.026508611988334874), (5, 0.019925112169815646), (6, 0.014948294086239475), (7, 0.011283978725092677)]\n",
      "[(0, 0.07202252781540991), (1, 0.04742442038822276), (2, 0.7753844970814395), (3, 0.026531285385479574), (4, 0.019880343440317323), (5, 0.014943835646783093), (6, 0.01121122051612698)]\n",
      "[(0, 0.06394849142213484), (1, 0.04721510625073932), (2, 0.7836665491116073), (3, 0.02653235873911277), (4, 0.019880572791919796), (5, 0.014943831442079924), (6, 0.01121122051618008)]\n"
     ]
    }
   ],
   "source": [
    "hdp = models.HdpModel(corpus, id2word=dictionary)\n",
    "corpus_hdp = hdp[corpus]\n",
    "\n",
    "for doc in corpus_hdp:\n",
    "    print(doc)"
   ]
  },
  {
   "cell_type": "code",
   "execution_count": null,
   "metadata": {},
   "outputs": [],
   "source": []
  }
 ],
 "metadata": {
  "kernelspec": {
   "display_name": "Python 3",
   "language": "python",
   "name": "python3"
  },
  "language_info": {
   "codemirror_mode": {
    "name": "ipython",
    "version": 3
   },
   "file_extension": ".py",
   "mimetype": "text/x-python",
   "name": "python",
   "nbconvert_exporter": "python",
   "pygments_lexer": "ipython3",
   "version": "3.6.4"
  }
 },
 "nbformat": 4,
 "nbformat_minor": 2
}
