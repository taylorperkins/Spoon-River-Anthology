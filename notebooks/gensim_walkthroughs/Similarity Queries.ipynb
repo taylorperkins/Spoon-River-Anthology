{
 "cells": [
  {
   "cell_type": "code",
   "execution_count": 12,
   "metadata": {},
   "outputs": [],
   "source": [
    "from gensim import corpora, models, similarities\n",
    "\n",
    "from pprint import pprint\n",
    "import logging\n",
    "\n",
    "logging.basicConfig(format='%(asctime)s : %(levelname)s : %(message)s', level=logging.INFO)"
   ]
  },
  {
   "cell_type": "code",
   "execution_count": 2,
   "metadata": {},
   "outputs": [
    {
     "name": "stderr",
     "output_type": "stream",
     "text": [
      "2018-06-23 16:08:07,564 : INFO : loading Dictionary object from ../data/deerwester.dict\n",
      "2018-06-23 16:08:07,568 : INFO : loaded ../data/deerwester.dict\n",
      "2018-06-23 16:08:07,572 : INFO : loaded corpus index from ../data/deerwester.mm.index\n",
      "2018-06-23 16:08:07,573 : INFO : initializing cython corpus reader from ../data/deerwester.mm\n",
      "2018-06-23 16:08:07,576 : INFO : accepted corpus with 9 documents, 12 features, 28 non-zero entries\n"
     ]
    },
    {
     "name": "stdout",
     "output_type": "stream",
     "text": [
      "MmCorpus(9 documents, 12 features, 28 non-zero entries)\n"
     ]
    }
   ],
   "source": [
    "dictionary = corpora.Dictionary.load('../../data/deerwester.dict')\n",
    "corpus = corpora.MmCorpus('../../data/deerwester.mm')\n",
    "print(corpus)"
   ]
  },
  {
   "cell_type": "code",
   "execution_count": 3,
   "metadata": {},
   "outputs": [
    {
     "name": "stderr",
     "output_type": "stream",
     "text": [
      "2018-06-23 16:08:07,587 : INFO : using serial LSI version on this node\n",
      "2018-06-23 16:08:07,591 : INFO : updating model with new documents\n",
      "2018-06-23 16:08:07,594 : INFO : preparing a new chunk of documents\n",
      "2018-06-23 16:08:07,597 : INFO : using 100 extra samples and 2 power iterations\n",
      "2018-06-23 16:08:07,599 : INFO : 1st phase: constructing (12, 102) action matrix\n",
      "2018-06-23 16:08:07,601 : INFO : orthonormalizing (12, 102) action matrix\n",
      "2018-06-23 16:08:07,606 : INFO : 2nd phase: running dense svd on (12, 9) matrix\n",
      "2018-06-23 16:08:07,609 : INFO : computing the final decomposition\n",
      "2018-06-23 16:08:07,611 : INFO : keeping 2 factors (discarding 43.156% of energy spectrum)\n",
      "2018-06-23 16:08:07,613 : INFO : processed documents up to #9\n",
      "2018-06-23 16:08:07,615 : INFO : topic #0(3.341): 0.644*\"system\" + 0.404*\"user\" + 0.301*\"eps\" + 0.265*\"time\" + 0.265*\"response\" + 0.240*\"computer\" + 0.221*\"human\" + 0.206*\"survey\" + 0.198*\"interface\" + 0.036*\"graph\"\n",
      "2018-06-23 16:08:07,617 : INFO : topic #1(2.542): -0.623*\"graph\" + -0.490*\"trees\" + -0.451*\"minors\" + -0.274*\"survey\" + 0.167*\"system\" + 0.141*\"eps\" + 0.113*\"human\" + -0.107*\"time\" + -0.107*\"response\" + 0.072*\"interface\"\n"
     ]
    }
   ],
   "source": [
    "lsi = models.LsiModel(corpus, id2word=dictionary, num_topics=2)"
   ]
  },
  {
   "cell_type": "markdown",
   "metadata": {},
   "source": [
    "### Similarities\n",
    "Given a user who types in the doc.. How can you find the most similar documents?"
   ]
  },
  {
   "cell_type": "code",
   "execution_count": 5,
   "metadata": {},
   "outputs": [
    {
     "name": "stdout",
     "output_type": "stream",
     "text": [
      "[(0, 0.461821004532716), (1, 0.07002766527900026)]\n"
     ]
    }
   ],
   "source": [
    "doc = \"Human computer interaction\"\n",
    "vec_bow = dictionary.doc2bow(doc.lower().split())\n",
    "vec_lsi = lsi[vec_bow]\n",
    "print(vec_lsi)"
   ]
  },
  {
   "cell_type": "code",
   "execution_count": 6,
   "metadata": {},
   "outputs": [
    {
     "name": "stderr",
     "output_type": "stream",
     "text": [
      "2018-06-23 16:10:52,145 : WARNING : scanning corpus to determine the number of features (consider setting `num_features` explicitly)\n",
      "2018-06-23 16:10:52,148 : INFO : creating matrix with 9 documents and 2 features\n"
     ]
    }
   ],
   "source": [
    "index = similarities.MatrixSimilarity(lsi[corpus])  # transform corpus to LSI space and transform it"
   ]
  },
  {
   "cell_type": "code",
   "execution_count": 7,
   "metadata": {},
   "outputs": [
    {
     "name": "stderr",
     "output_type": "stream",
     "text": [
      "2018-06-23 16:11:57,122 : INFO : saving MatrixSimilarity object under ../data/deerwester.index, separately None\n",
      "2018-06-23 16:11:57,125 : INFO : saved ../data/deerwester.index\n",
      "2018-06-23 16:11:57,126 : INFO : loading MatrixSimilarity object from ../data/deerwester.index\n",
      "2018-06-23 16:11:57,127 : INFO : loaded ../data/deerwester.index\n"
     ]
    }
   ],
   "source": [
    "index.save('../../data/deerwester.index')\n",
    "index = similarities.MatrixSimilarity.load('../../data/deerwester.index')"
   ]
  },
  {
   "cell_type": "markdown",
   "metadata": {},
   "source": [
    "### Gather the most similar docs compared to the vec_lsi\n",
    "Note:\n",
    "This is a cosine similarity. `-1 <= x <= 1`, greater is the more similar"
   ]
  },
  {
   "cell_type": "code",
   "execution_count": 15,
   "metadata": {},
   "outputs": [
    {
     "name": "stdout",
     "output_type": "stream",
     "text": [
      "[ 0.998093    0.93748635  0.9984453   0.9865886   0.90755945 -0.12416792\n",
      " -0.10639259 -0.09879463  0.05004177]\n"
     ]
    }
   ],
   "source": [
    "sims = index[vec_lsi]\n",
    "print(sims)"
   ]
  },
  {
   "cell_type": "code",
   "execution_count": 16,
   "metadata": {},
   "outputs": [
    {
     "name": "stdout",
     "output_type": "stream",
     "text": [
      "[(2, 0.9984453),\n",
      " (0, 0.998093),\n",
      " (3, 0.9865886),\n",
      " (1, 0.93748635),\n",
      " (4, 0.90755945),\n",
      " (8, 0.05004177),\n",
      " (7, -0.09879463),\n",
      " (6, -0.10639259),\n",
      " (5, -0.12416792)]\n"
     ]
    }
   ],
   "source": [
    "sims = sorted(enumerate(sims), key=lambda item: -item[1])\n",
    "pprint(sims)"
   ]
  },
  {
   "cell_type": "code",
   "execution_count": null,
   "metadata": {},
   "outputs": [],
   "source": []
  }
 ],
 "metadata": {
  "kernelspec": {
   "display_name": "Python 3",
   "language": "python",
   "name": "python3"
  },
  "language_info": {
   "codemirror_mode": {
    "name": "ipython",
    "version": 3
   },
   "file_extension": ".py",
   "mimetype": "text/x-python",
   "name": "python",
   "nbconvert_exporter": "python",
   "pygments_lexer": "ipython3",
   "version": "3.6.4"
  }
 },
 "nbformat": 4,
 "nbformat_minor": 2
}
