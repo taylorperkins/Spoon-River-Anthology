{
 "cells": [
  {
   "cell_type": "markdown",
   "metadata": {},
   "source": [
    "### Pro Nouns\n",
    "I am wanting to ultimately determine relationships between the characters within spoon river, to ultimately create a graph to be used with the story. \n",
    "\n",
    "In order to do this.. I need some pro nouns!!"
   ]
  },
  {
   "cell_type": "code",
   "execution_count": 1,
   "metadata": {},
   "outputs": [],
   "source": [
    "import os\n",
    "import fnmatch\n",
    "import re\n",
    "\n",
    "from nltk import word_tokenize"
   ]
  },
  {
   "cell_type": "code",
   "execution_count": 2,
   "metadata": {},
   "outputs": [],
   "source": [
    "def remove_ascii(line):\n",
    "    return re.sub(r'[\\x90-\\x99]','', line)\n",
    "\n",
    "\n",
    "def read_text(base_dir):\n",
    "    for file_name in os.listdir(base_dir):\n",
    "        if fnmatch.fnmatch(file_name, '*_cleaned_poem.txt'):\n",
    "            with open(f'../data/poems/{file_name}', 'r') as f:\n",
    "                poem = [remove_ascii(line) for line in f.read().splitlines()]\n",
    "                \n",
    "                yield poem"
   ]
  },
  {
   "cell_type": "code",
   "execution_count": 3,
   "metadata": {},
   "outputs": [],
   "source": [
    "poems = read_text('../data/poems/')"
   ]
  },
  {
   "cell_type": "code",
   "execution_count": 4,
   "metadata": {},
   "outputs": [
    {
     "data": {
      "text/plain": [
       "['DEAR Jane! dear winsome Jane!',\n",
       " 'How you stole in the room (where I lay so ill)',\n",
       " 'In your nurses cap and linen cuffs,',\n",
       " 'And took my hand and said with a smile:',\n",
       " 'You are not so ill youll soon be well.',\n",
       " 'And how the liquid thought of your eyes',\n",
       " 'Sank in my eyes like dew that slips',\n",
       " 'Into the heart of a flower.',\n",
       " 'Dear Jane! the whole McNeely fortune',\n",
       " 'Could not have bought your care of me,',\n",
       " 'By day and night, and night and day;',\n",
       " 'Nor paid for you smile, nor the warmth of your soul,',\n",
       " 'In your little hands laid on my brow.',\n",
       " 'Jane, till the flame of life went out',\n",
       " 'In the dark above the disk of night',\n",
       " 'I longed and hoped to be well again',\n",
       " 'To pillow my head on your little breasts,',\n",
       " 'And hold you fast in a clasp of love',\n",
       " 'Did my father provide for you when he died,',\n",
       " 'Jane, dear Jane?']"
      ]
     },
     "execution_count": 4,
     "metadata": {},
     "output_type": "execute_result"
    }
   ],
   "source": [
    "next(poems)"
   ]
  },
  {
   "cell_type": "code",
   "execution_count": null,
   "metadata": {},
   "outputs": [],
   "source": []
  }
 ],
 "metadata": {
  "kernelspec": {
   "display_name": "Python 3",
   "language": "python",
   "name": "python3"
  },
  "language_info": {
   "codemirror_mode": {
    "name": "ipython",
    "version": 3
   },
   "file_extension": ".py",
   "mimetype": "text/x-python",
   "name": "python",
   "nbconvert_exporter": "python",
   "pygments_lexer": "ipython3",
   "version": "3.6.4"
  }
 },
 "nbformat": 4,
 "nbformat_minor": 2
}
